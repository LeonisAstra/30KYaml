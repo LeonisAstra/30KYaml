{
 "cells": [
  {
   "cell_type": "code",
   "execution_count": 1,
   "id": "40e44819",
   "metadata": {},
   "outputs": [],
   "source": [
    "import pandas as pd\n",
    "import numpy as np\n",
    "from string import capwords\n",
    "import yaml as yl\n",
    "import re"
   ]
  },
  {
   "cell_type": "code",
   "execution_count": 2,
   "id": "936f5ff8",
   "metadata": {},
   "outputs": [],
   "source": [
    "reference_sheet = 'ref/30k_Cheat_Sheets_9_Dec.xlsx'"
   ]
  },
  {
   "cell_type": "markdown",
   "id": "ce8ce0d4",
   "metadata": {},
   "source": [
    "## Create the Special Rules Repository"
   ]
  },
  {
   "cell_type": "markdown",
   "id": "7d9b2093",
   "metadata": {},
   "source": [
    "### Assign Special Rules in the Core Rules + Libre Astartes/Hereticus as the \"Compendium\""
   ]
  },
  {
   "cell_type": "code",
   "execution_count": 3,
   "id": "15aeec7d",
   "metadata": {},
   "outputs": [],
   "source": [
    "# Eventually we will have Citations, but for now, nope!\n",
    "#pd.read_excel(reference_sheet, sheet_name=\"Special Rules\", header=None, skiprows=[0], usecols=\"A:C\", names=[\"Name\", \"Description\", \"Citation\"])\n",
    "\n",
    "# Load in the Data from the Excel File\n",
    "pd_SpecialRules = pd.read_excel(reference_sheet, sheet_name=\"Special Rules\", header=None, skiprows=[0], usecols=\"A:B\", names=[\"Name\", \"Description\"])\n",
    "\n",
    "# Small Formatting Change to be in Proper English Case for Clarity with Official Sources\n",
    "pd_SpecialRules['Name'] = pd_SpecialRules['Name'].apply(capwords)\n",
    "pd_SpecialRules['Name'] = pd_SpecialRules['Name'].replace(\"\\(x\", \"(X\", regex=True)"
   ]
  },
  {
   "cell_type": "code",
   "execution_count": 4,
   "id": "e2f26596",
   "metadata": {},
   "outputs": [],
   "source": [
    "with open('00-Rules/SR_compendium.yml', 'w') as file:\n",
    "    yl.dump({'Compendium': pd_SpecialRules.to_dict(orient='records')}, file, default_flow_style=False)"
   ]
  },
  {
   "cell_type": "markdown",
   "id": "48593389",
   "metadata": {},
   "source": [
    "### Assign Special Rules in the Legacy Rulebooks as the \"Legacy\""
   ]
  },
  {
   "cell_type": "code",
   "execution_count": 5,
   "id": "3693356d",
   "metadata": {},
   "outputs": [],
   "source": [
    "# Load in the Data from the Excel File\n",
    "pd_SpecialRules = pd.read_excel(reference_sheet, sheet_name=\"Legacy Special Rules\", header=None, skiprows=[0], usecols=\"A:B\", names=[\"Name\", \"Description\"])\n",
    "\n",
    "# Small Formatting Change to be in Proper English Case for Clarity with Official Sources\n",
    "pd_SpecialRules['Name'] = pd_SpecialRules['Name'].apply(capwords)\n",
    "pd_SpecialRules['Name'] = pd_SpecialRules['Name'].replace(\"\\(x\", \"(X\", regex=True)\n",
    "with open('00-Rules/SR_legacy.yml', 'w') as file:\n",
    "    yl.dump({'Legacy': pd_SpecialRules.to_dict(orient='records')}, file, default_flow_style=False)"
   ]
  },
  {
   "cell_type": "markdown",
   "id": "b935e65f",
   "metadata": {},
   "source": [
    "## Create the Unit Types Repository"
   ]
  },
  {
   "cell_type": "code",
   "execution_count": 14,
   "id": "135b9502",
   "metadata": {},
   "outputs": [],
   "source": [
    "# Eventually we will have Citations, but for now, nope!\n",
    "#pd.read_excel(reference_sheet, sheet_name=\"Special Rules\", header=None, skiprows=[0], usecols=\"A:C\", names=[\"Name\", \"Description\", \"Citation\"])\n",
    "\n",
    "# Load in the Data from the Excel File\n",
    "pd_LegionWG = pd.read_excel(reference_sheet, sheet_name=\"Generic Legion Wargear\", header=None, skiprows=[41,42,43], usecols=\"A:B\", names=[\"Name\", \"Description\"])\n",
    "pd_MechWG = pd.read_excel(reference_sheet, sheet_name=\"Mechanicum Wargear\", header=None, skiprows=[], usecols=\"A:B\", names=[\"Name\", \"Description\"])\n",
    "pd_ImperiumWG = pd.read_excel(reference_sheet, sheet_name=\"Forces of the Imperium Wargear\", header=None, skiprows=[41,42,43], usecols=\"A:B\", names=[\"Name\", \"Description\"])\n",
    "pd_AssassinWG = pd.read_excel(reference_sheet, sheet_name=\"Assassin Wargear\", header=None, skiprows=[], usecols=\"A:B\", names=[\"Name\", \"Description\"])\n",
    "\n",
    "pd_Wargear = pd.concat([pd_LegionWG, pd_MechWG, pd_ImperiumWG, pd_AssassinWG])\n",
    "pd_Wargear = pd_Wargear.drop_duplicates(subset=[\"Name\"], keep=\"last\") \n",
    "\n",
    "# Small Formatting Change to be in Proper English Case for Clarity with Official Sources\n",
    "pd_Wargear['Name'] = pd_Wargear['Name'].apply(capwords)\n",
    "pd_Wargear['Name'] = pd_Wargear['Name'].replace(\"\\(x\", \"(X\", regex=True)"
   ]
  },
  {
   "cell_type": "code",
   "execution_count": 15,
   "id": "71d6c12b",
   "metadata": {
    "scrolled": true
   },
   "outputs": [],
   "source": [
    "with open('00-Rules/Wargear.yml', 'w') as file:\n",
    "    yl.dump({'Legacy': pd_Wargear.to_dict(orient='records')}, file, default_flow_style=False)"
   ]
  },
  {
   "cell_type": "markdown",
   "id": "6fe5127f",
   "metadata": {},
   "source": [
    "## Create the Wargear Repository"
   ]
  },
  {
   "cell_type": "code",
   "execution_count": null,
   "id": "22b359ad",
   "metadata": {},
   "outputs": [],
   "source": [
    "# Note: You need to manually excise out blank/title rows. Remember that index starts at 0, not 1!\n",
    "skipRows_UnitTypes = [0, 8, 9, 30, 31]"
   ]
  },
  {
   "cell_type": "code",
   "execution_count": null,
   "id": "7b3f6d18",
   "metadata": {},
   "outputs": [],
   "source": [
    "# Load in the Data from the Excel File\n",
    "pd_UnitTypes = pd.read_excel(reference_sheet, sheet_name=\"Unit Types and Sub-Types\", header=None, skiprows=skipRows_UnitTypes, usecols=\"A:B\", names=[\"Name\", \"Description\"])\n",
    "\n",
    "# Small Formatting Change to be in Proper English Case for Clarity with Official Sources\n",
    "pd_UnitTypes['Name'] = pd_UnitTypes['Name'].apply(capwords)\n",
    "pd_UnitTypes['Name'] = pd_UnitTypes['Name'].replace(\"\\(x\", \"(X\", regex=True)"
   ]
  },
  {
   "cell_type": "code",
   "execution_count": null,
   "id": "7c1251dd",
   "metadata": {},
   "outputs": [],
   "source": [
    "# Remove Bullet Points for Easier Parsing into YAML Format: \n",
    "for i, UnitType_Desc in enumerate(pd_UnitTypes['Description']):\n",
    "    SplitDesc = UnitType_Desc.split(\"\\n\")\n",
    "    if len(SplitDesc) > 1 and SplitDesc[0][0] != '•':\n",
    "        SplitDesc.remove(SplitDesc[0])\n",
    "    for j, Line in enumerate(SplitDesc):\n",
    "        SplitDesc[j] = Line.split('• ')[-1]\n",
    "    pd_UnitTypes['Description'][i] = '\\n '.join(SplitDesc)"
   ]
  },
  {
   "cell_type": "code",
   "execution_count": null,
   "id": "f67a1afe",
   "metadata": {},
   "outputs": [],
   "source": [
    "with open('00-Rules/UnitTypes.yml', 'w') as file:\n",
    "    yl.dump({'Legacy': pd_UnitTypes.to_dict(orient='records')}, file, default_flow_style=False)"
   ]
  },
  {
   "cell_type": "markdown",
   "id": "873c91d8",
   "metadata": {},
   "source": [
    "## Create the Weapons Repository"
   ]
  },
  {
   "cell_type": "markdown",
   "id": "6184b020",
   "metadata": {},
   "source": [
    "### Start with the Close Combat Weapons"
   ]
  },
  {
   "cell_type": "code",
   "execution_count": 16,
   "id": "3d0a4661",
   "metadata": {},
   "outputs": [],
   "source": [
    "# You need to manually excise out blank/title rows! \n",
    "# NOTE: These are the ROW NUMBERS AS IN EXCEL!\n",
    "Rows_To_Skip_Excel = [34,35,36,82,83,84,86]\n",
    "\n",
    "# Set the Location of the Header Row\n",
    "Header_Row_In_Excel = 2\n",
    "pd_HeaderRow = Header_Row_In_Excel - 1\n",
    "\n",
    "skipRows_CCWProfiles = [x - 1 for x in Rows_To_Skip_Excel]"
   ]
  },
  {
   "cell_type": "code",
   "execution_count": 18,
   "id": "cefbf6e9",
   "metadata": {},
   "outputs": [],
   "source": [
    "pd_CCWProfiles = pd.read_excel(reference_sheet, sheet_name=\"Legion CC Weapons\", header=pd_HeaderRow, skiprows=skipRows_CCWProfiles)"
   ]
  },
  {
   "cell_type": "code",
   "execution_count": 12,
   "id": "3aefe632",
   "metadata": {},
   "outputs": [],
   "source": [
    "# Add in the 'Range' Characteristic to be Consistent Across all Weapon Profiles\n",
    "pd_CCWProfiles['Range'] = ['Combat' for i in range(len(pd_CCWProfiles['Legion']))]\n",
    "\n",
    "for i, name in enumerate(pd_CCWProfiles['Weapon Name']):\n",
    "    if type(name) != type(\"\"):\n",
    "        print(name, pd_CCWProfiles.loc[[i]])\n",
    "\n",
    "# Ensure All Weapon Names Are in Proper English Capatilization\n",
    "pd_CCWProfiles['Weapon Name'] = pd_CCWProfiles['Weapon Name'].apply(capwords)\n",
    "\n",
    "# Fix the 'Legion' Keyword to be Self-Consistent\n",
    "pd_CCWProfiles.rename(columns={\"Legion\":'LEGION'}, inplace=True)\n",
    "\n",
    "# Replace the '-' Character in all Other Areas with 'None' to Prevent Parsing Issues\n",
    "for key in pd_CCWProfiles.keys():\n",
    "    pd_CCWProfiles[key] = pd_CCWProfiles[key].replace(\"-\", \"None\", regex=False) \n",
    "\n",
    "# Deal with Possible Capitalization Issues in Legion Abbreviations (EX: SoH vs SOH)\n",
    "pd_CCWProfiles['LEGION'] = pd_CCWProfiles['LEGION'].str.upper()"
   ]
  },
  {
   "cell_type": "code",
   "execution_count": 13,
   "id": "b771223e",
   "metadata": {},
   "outputs": [],
   "source": [
    "# Group by the Legion Column for Quicker Memory Loads\n",
    "pd_GroupByLegion = pd_CCWProfiles.groupby(['LEGION'])\n",
    "# For Each Legion, Do ...\n",
    "for key in pd_GroupByLegion.groups.keys():\n",
    "    # Convert it to a Python Dictionary for Parsing before YAML Storage\n",
    "    dict_GroupByLegionKey = pd_GroupByLegion.get_group(key).to_dict(orient='records')\n",
    "    # Remove the 'LEGION' Column as this will be the Parent Key for the File\n",
    "    for entry in dict_GroupByLegionKey:\n",
    "        entry.pop('LEGION', None)\n",
    "    # Write out a BasedProfiles_{$Key}.yml File for the Given Legion\n",
    "    with open('01-Weapons/Combat_'+key+'.yml', 'w') as file:\n",
    "        yl.dump({key: dict_GroupByLegionKey}, file, default_flow_style=False)"
   ]
  },
  {
   "cell_type": "markdown",
   "id": "09a37814",
   "metadata": {},
   "source": [
    "### Now, Create the Ranged Weapon Profiles"
   ]
  },
  {
   "cell_type": "code",
   "execution_count": 14,
   "id": "23be3418",
   "metadata": {},
   "outputs": [],
   "source": [
    "# You need to manually excise out blank/title rows! \n",
    "# NOTE: These are the ROW NUMBERS AS IN EXCEL!\n",
    "Rows_To_Skip_Excel = [139, 149, 150, 211, 212, 213, 240, 241]\n",
    "\n",
    "# Set the Location of the Header Row\n",
    "Header_Row_In_Excel = 1\n",
    "pd_HeaderRow = Header_Row_In_Excel - 1\n",
    "\n",
    "skipRows_RangedProfiles = [x - 1 for x in Rows_To_Skip_Excel]"
   ]
  },
  {
   "cell_type": "code",
   "execution_count": 15,
   "id": "db0cb211",
   "metadata": {},
   "outputs": [],
   "source": [
    "pd_RangedProfiles = pd.read_excel(reference_sheet, sheet_name=\"Ranged Weapons\", header=pd_HeaderRow, skiprows=skipRows_RangedProfiles)"
   ]
  },
  {
   "cell_type": "code",
   "execution_count": 16,
   "id": "bcd8e1e0",
   "metadata": {},
   "outputs": [],
   "source": [
    "# Fix the 'Legion' Keyword to be Self-Consistent\n",
    "pd_RangedProfiles.rename(columns={\"Legion\":'LEGION'}, inplace=True)\n",
    "\n",
    "# Replace the '-' Character in all Other Areas with 'None' to Prevent Parsing Issues\n",
    "for key in pd_RangedProfiles.keys():\n",
    "    pd_RangedProfiles[key] = pd_RangedProfiles[key].replace(\"-\", \"None\", regex=False) \n",
    "\n",
    "# Deal with Possible Capitalization Issues in Legion Abbreviations (EX: SoH vs SOH)\n",
    "pd_RangedProfiles['LEGION'] = pd_RangedProfiles['LEGION'].str.upper()"
   ]
  },
  {
   "cell_type": "code",
   "execution_count": 17,
   "id": "a77b05d9",
   "metadata": {},
   "outputs": [],
   "source": [
    "# Address the Issue of Multiple Profile Weapons\n",
    "\n",
    "# Solution: Make each profile its own \"weapon\" row in Pandas and remove the parent.\n",
    "\n",
    "max_rows = len(pd_RangedProfiles['Weapon Name'])\n",
    "different_range_names = ['Close', 'Medium', 'Far'] # For Conversion Beamer Cause its Special\n",
    "for i in np.where(pd.isnull(pd_RangedProfiles['Str']))[0]:\n",
    "    # Set the Parent Weapon's Name\n",
    "    parent_weapon_name = pd_RangedProfiles['Weapon Name'][i]\n",
    "    # Set a Search Cap for Secondary Profiles & Ensure it Doesn't Exceed the Table's Length\n",
    "    search_cap = 5\n",
    "    if i+search_cap > max_rows: search_cap = max_rows - i\n",
    "    for j in range(search_cap):\n",
    "        # Set the Current Weapon Profile Name\n",
    "        current_profile = pd_RangedProfiles['Weapon Name'][i+j]\n",
    "        # Check to Make Sure the Parent & Current Weapon Profile Names aren't Secondaries\n",
    "        if '(Secondary)' in parent_weapon_name and '(Secondary)' in current_profile:\n",
    "            continue\n",
    "        if type(current_profile) == type(''):\n",
    "            # Check for the Auxillary Profile Delimeter (Leading '-' in the Name)\n",
    "            if '-' in current_profile[0:4]:\n",
    "                current_profile = current_profile.replace('-',' ')\n",
    "                current_profile = current_profile.replace('(','')\n",
    "                current_profile = current_profile.replace(')','')\n",
    "                parent_weapon_name = parent_weapon_name.replace('-',' ')\n",
    "                current_profile = re.sub(' +', ' ', current_profile)\n",
    "                parent_weapon_name = parent_weapon_name.strip()\n",
    "                #print(i+j, parent_weapon_name+\" ~\"+current_profile)\n",
    "                pd_RangedProfiles.at[i+j, 'Weapon Name'] = parent_weapon_name+\" ~\"+current_profile\n",
    "        else:\n",
    "            #print(i+j, parent_weapon_name, \"~\", different_range_names[j-1])\n",
    "            pd_RangedProfiles.at[i+j, 'Weapon Name'] = parent_weapon_name+\" ~ \"+different_range_names[j-1]\n",
    "pd_RangedProfiles.drop(np.where(pd.isnull(pd_RangedProfiles['Str']))[0], inplace=True)"
   ]
  },
  {
   "cell_type": "code",
   "execution_count": 18,
   "id": "4de1b9f6",
   "metadata": {},
   "outputs": [],
   "source": [
    "# Ensure All Weapon Names Are in Proper English Capatilization\n",
    "pd_RangedProfiles['Weapon Name'] = pd_RangedProfiles['Weapon Name'].apply(capwords)\n",
    "\n",
    "# Ensure that the Weird Whirlwind Launcher Names Are Fixed\n",
    "pd_RangedProfiles = pd_RangedProfiles.replace(\" He \", \" HE \", regex=True)\n",
    "pd_RangedProfiles = pd_RangedProfiles.replace(\" Ap \", \" AP \", regex=True)\n",
    "pd_RangedProfiles = pd_RangedProfiles.replace(\" Aa \", \" AA \", regex=True)"
   ]
  },
  {
   "cell_type": "code",
   "execution_count": 19,
   "id": "192aaca4",
   "metadata": {},
   "outputs": [],
   "source": [
    "# Deal with the Iliastus pattern assault cannon Issue of \"IF/BA\"\n",
    "ls_LegionNames = ['BA', 'IF']\n",
    "row_IF_IPAC = pd_RangedProfiles.loc[pd_RangedProfiles['LEGION'] == 'IF/BA'].copy(deep=True)\n",
    "pd_RangedProfiles = pd_RangedProfiles.append(row_IF_IPAC, ignore_index=True)\n",
    "index_for_rows = pd_RangedProfiles.index[pd_RangedProfiles['LEGION']=='IF/BA'].tolist()\n",
    "for i, index in enumerate(index_for_rows):\n",
    "    pd_RangedProfiles.at[index, 'LEGION'] = ls_LegionNames[i]"
   ]
  },
  {
   "cell_type": "code",
   "execution_count": 20,
   "id": "799b1a01",
   "metadata": {},
   "outputs": [],
   "source": [
    "# Group by the Legion Column for Quicker Memory Loads\n",
    "pd_GroupByLegion = pd_RangedProfiles.groupby(['LEGION'])\n",
    "# For Each Legion, Do ...\n",
    "for key in pd_GroupByLegion.groups.keys():\n",
    "    # Convert it to a Python Dictionary for Parsing before YAML Storage\n",
    "    dict_GroupByLegionKey = pd_GroupByLegion.get_group(key).to_dict(orient='records')\n",
    "    # Remove the 'LEGION' Column as this will be the Parent Key for the File\n",
    "    for entry in dict_GroupByLegionKey:\n",
    "        entry.pop('LEGION', None)\n",
    "    # Write out a BasedProfiles_{$Key}.yml File for the Given Legion\n",
    "    with open('01-Weapons/Ranged_'+key+'.yml', 'w') as file:\n",
    "        yl.dump({key: dict_GroupByLegionKey}, file, default_flow_style=False)"
   ]
  },
  {
   "cell_type": "markdown",
   "id": "de070ed0",
   "metadata": {},
   "source": [
    "## Create the Profiles Repository "
   ]
  },
  {
   "cell_type": "markdown",
   "id": "f7ac7c33",
   "metadata": {},
   "source": [
    "### Start with All of the Models that are on Bases (Referred to as 'BasedProfiles')"
   ]
  },
  {
   "cell_type": "code",
   "execution_count": 21,
   "id": "79eea9ea",
   "metadata": {},
   "outputs": [],
   "source": [
    "# You need to manually excise out blank/title rows! \n",
    "# NOTE: These are the ROW NUMBERS AS IN EXCEL!\n",
    "Rows_To_Skip_Excel = [53,54,55,157,158,159,160,168,169]\n",
    "\n",
    "# Set the Location of the Header Row\n",
    "Header_Row_In_Excel = 4\n",
    "pd_HeaderRow = Header_Row_In_Excel - 1\n",
    "\n",
    "skipRows_BasedProfiles = [x - 1 for x in Rows_To_Skip_Excel]"
   ]
  },
  {
   "cell_type": "code",
   "execution_count": 22,
   "id": "7a85859f",
   "metadata": {},
   "outputs": [],
   "source": [
    "# Load in the Data from the Excel File\n",
    "pd_BasedProfiles = pd.read_excel(reference_sheet, sheet_name=\"Unit Profiles\", header=pd_HeaderRow, skiprows=skipRows_BasedProfiles)\n",
    "\n",
    "# Deal with Possible Capitalization Issues in Legion Abbreviations (EX: SoH vs SOH)\n",
    "pd_BasedProfiles['LEGION'] = pd_BasedProfiles['LEGION'].str.upper()\n",
    "\n",
    "# Deal with TROOP vs TROOPS (Prefer the Latter, as per rulebook)\n",
    "pd_BasedProfiles['FOC Slot'] = pd_BasedProfiles['FOC Slot'].replace(\"TROOP\", \"TROOPS\", regex=False)\n",
    "\n",
    "# Replace the '-' Character with 'ATTACHED' Keyword\n",
    "pd_BasedProfiles['FOC Slot'] = pd_BasedProfiles['FOC Slot'].replace(\"-\", \"ATTACHED\", regex=False)\n",
    "\n",
    "# Replace the '-' Character in all Other Areas with 'None' to Prevent Parsing Issues\n",
    "for key in pd_BasedProfiles.keys():\n",
    "    pd_BasedProfiles[key] = pd_BasedProfiles[key].replace(\"-\", \"None\", regex=False) "
   ]
  },
  {
   "cell_type": "code",
   "execution_count": 23,
   "id": "34a7413b",
   "metadata": {},
   "outputs": [],
   "source": [
    "# Group by the Legion Column for Quicker Memory Loads\n",
    "pd_GroupByLegion = pd_BasedProfiles.groupby(['LEGION'])"
   ]
  },
  {
   "cell_type": "code",
   "execution_count": 24,
   "id": "2ceb75b1",
   "metadata": {},
   "outputs": [],
   "source": [
    "# For Each Legion, Do ...\n",
    "for key in pd_GroupByLegion.groups.keys():\n",
    "    # Convert it to a Python Dictionary for Parsing before YAML Storage\n",
    "    dict_GroupByLegionKey = pd_GroupByLegion.get_group(key).to_dict(orient='records')\n",
    "    # Remove the 'LEGION' Column as this will be the Parent Key for the File\n",
    "    for entry in dict_GroupByLegionKey:\n",
    "        entry.pop('LEGION', None)\n",
    "    # Write out a BasedProfiles_{$Key}.yml File for the Given Legion\n",
    "    with open('02-Profiles/BasedProfiles_'+key+'.yml', 'w') as file:\n",
    "        yl.dump({key: dict_GroupByLegionKey}, file, default_flow_style=False)"
   ]
  },
  {
   "cell_type": "markdown",
   "id": "d94154df",
   "metadata": {},
   "source": [
    "### Now Tackle All of the Vechicles"
   ]
  },
  {
   "cell_type": "code",
   "execution_count": 25,
   "id": "c7a393b1",
   "metadata": {},
   "outputs": [],
   "source": [
    "# You need to manually excise out blank/title rows! \n",
    "# NOTE: These are the ROW NUMBERS AS IN EXCEL!\n",
    "Rows_To_Skip_Excel = [35,36,37,38]\n",
    "\n",
    "# Set the Location of the Header Row\n",
    "Header_Row_In_Excel = 1\n",
    "pd_HeaderRow = Header_Row_In_Excel - 1\n",
    "\n",
    "skipRows_VehicleProfiles = [x - 1 for x in Rows_To_Skip_Excel]"
   ]
  },
  {
   "cell_type": "code",
   "execution_count": 26,
   "id": "d30af7f8",
   "metadata": {},
   "outputs": [],
   "source": [
    "# Load in the Data from the Excel File\n",
    "pd_VehicleProfiles = pd.read_excel(reference_sheet, sheet_name=\"Vehicle Profiles\", header=pd_HeaderRow, skiprows=skipRows_VehicleProfiles)"
   ]
  },
  {
   "cell_type": "code",
   "execution_count": 27,
   "id": "bb5ae939",
   "metadata": {},
   "outputs": [],
   "source": [
    "# Deal with Possible Capitalization Issues in Legion Abbreviations (EX: SoH vs SOH)\n",
    "pd_BasedProfiles['LEGION'] = pd_BasedProfiles['LEGION'].str.upper()\n",
    "\n",
    "# Replace the '-' Character in all Other Areas with 'None' to Prevent Parsing Issues\n",
    "for key in pd_VehicleProfiles.keys():\n",
    "    pd_VehicleProfiles[key] = pd_VehicleProfiles[key].replace(\"-\", \"None\", regex=False)\n",
    "pd_VehicleProfiles.rename(columns={\"TRANSPORT \":'Transport'}, inplace=True)"
   ]
  },
  {
   "cell_type": "code",
   "execution_count": 28,
   "id": "b98ec2fa",
   "metadata": {},
   "outputs": [],
   "source": [
    "# Group by the Legion Column for Quicker Memory Loads\n",
    "pd_GroupByLegion = pd_VehicleProfiles.groupby(['LEGION'])"
   ]
  },
  {
   "cell_type": "code",
   "execution_count": 29,
   "id": "3d8108ad",
   "metadata": {},
   "outputs": [],
   "source": [
    "# For Each Legion, Do ...\n",
    "for key in pd_GroupByLegion.groups.keys():\n",
    "    # Convert it to a Python Dictionary for Parsing before YAML Storage\n",
    "    dict_GroupByLegionKey = pd_GroupByLegion.get_group(key).to_dict(orient='records')\n",
    "    # Remove the 'LEGION' Column as this will be the Parent Key for the File\n",
    "    for entry in dict_GroupByLegionKey:\n",
    "        entry.pop('LEGION', None)\n",
    "    # Write out a BasedProfiles_{$Key}.yml File for the Given Legion\n",
    "    with open('02-Profiles/VehicleProfiles_'+key+'.yml', 'w') as file:\n",
    "        yl.dump({key: dict_GroupByLegionKey}, file, default_flow_style=False)"
   ]
  },
  {
   "cell_type": "markdown",
   "id": "cc69eb94",
   "metadata": {},
   "source": [
    "### Finally the Fortifications"
   ]
  },
  {
   "cell_type": "code",
   "execution_count": 30,
   "id": "cb4f7e95",
   "metadata": {},
   "outputs": [],
   "source": [
    "# Skip the Fortress of Redeption Line (To Be Dealt  With Later ...)\n",
    "skipRows_FortProfiles = [5]"
   ]
  },
  {
   "cell_type": "code",
   "execution_count": 31,
   "id": "c85d1a4a",
   "metadata": {},
   "outputs": [],
   "source": [
    "# Load in the Data from the Excel File\n",
    "pd_FortProfiles = pd.read_excel(reference_sheet, sheet_name=\"Fortifications\", header=0, skiprows=skipRows_FortProfiles)"
   ]
  },
  {
   "cell_type": "code",
   "execution_count": 32,
   "id": "66d50f11",
   "metadata": {},
   "outputs": [],
   "source": [
    "# Deal with Possible Capitalization Issues in Legion Abbreviations (EX: SoH vs SOH)\n",
    "pd_BasedProfiles['LEGION'] = pd_BasedProfiles['LEGION'].str.upper()\n",
    "\n",
    "# Replace the '-' Character in all Other Areas with 'None' to Prevent Parsing Issues\n",
    "for key in pd_FortProfiles.keys():\n",
    "    pd_FortProfiles[key] = pd_FortProfiles[key].replace(\"-\", \"None\", regex=False)\n",
    "pd_FortProfiles.rename(columns={\"TRANSPORT \":'Transport'}, inplace=True)"
   ]
  },
  {
   "cell_type": "code",
   "execution_count": 33,
   "id": "31e1096b",
   "metadata": {},
   "outputs": [],
   "source": [
    "# Deal with the Fortress of Redemption Issue\n",
    "pd_FortProfiles.at[4, 'Unit Name'] = \"Fortress of Redemption Bunker Annex\"\n",
    "pd_FortProfiles.at[5, 'Unit Name'] = \"Fortress of Redemption Tower\""
   ]
  },
  {
   "cell_type": "code",
   "execution_count": 34,
   "id": "af9313ef",
   "metadata": {},
   "outputs": [],
   "source": [
    "# Group by the Legion Column for Quicker Memory Loads\n",
    "pd_GroupByLegion = pd_FortProfiles.groupby(['LEGION'])"
   ]
  },
  {
   "cell_type": "code",
   "execution_count": 35,
   "id": "b0a3820b",
   "metadata": {},
   "outputs": [],
   "source": [
    "# For Each Legion, Do ...\n",
    "for key in pd_GroupByLegion.groups.keys():\n",
    "    # Convert it to a Python Dictionary for Parsing before YAML Storage\n",
    "    dict_GroupByLegionKey = pd_GroupByLegion.get_group(key).to_dict(orient='records')\n",
    "    # Remove the 'LEGION' Column as this will be the Parent Key for the File\n",
    "    for entry in dict_GroupByLegionKey:\n",
    "        entry.pop('LEGION', None)\n",
    "    # Write out a BasedProfiles_{$Key}.yml File for the Given Legion\n",
    "    with open('02-Profiles/FortificationProfiles_'+key+'.yml', 'w') as file:\n",
    "        yl.dump({key: dict_GroupByLegionKey}, file, default_flow_style=False)"
   ]
  }
 ],
 "metadata": {
  "kernelspec": {
   "display_name": "Python 3 (ipykernel)",
   "language": "python",
   "name": "python3"
  },
  "language_info": {
   "codemirror_mode": {
    "name": "ipython",
    "version": 3
   },
   "file_extension": ".py",
   "mimetype": "text/x-python",
   "name": "python",
   "nbconvert_exporter": "python",
   "pygments_lexer": "ipython3",
   "version": "3.9.12"
  }
 },
 "nbformat": 4,
 "nbformat_minor": 5
}
